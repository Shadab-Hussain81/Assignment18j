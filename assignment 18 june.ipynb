{
 "cells": [
  {
   "cell_type": "markdown",
   "id": "972ff559-1b41-4ae6-ae2d-066479e2be54",
   "metadata": {},
   "source": [
    "Que 1. What is the role of the 'else' block in a try-except statement? Provide an example\n",
    "scenario where it would be useful."
   ]
  },
  {
   "cell_type": "markdown",
   "id": "99ca1f22-e76e-49e5-ac87-2271a11501c7",
   "metadata": {},
   "source": [
    "Ans In a try-except statement, the 'else' block is an optional part that follows the 'try' and 'except' blocks. Its purpose is to specify a set of statements to be executed if no exceptions are raised within the 'try' block. In other words, the 'else' block is executed when the 'try' block runs successfully without any exceptions being raised."
   ]
  },
  {
   "cell_type": "code",
   "execution_count": 1,
   "id": "5ab907a5-1675-4254-a13a-f0454a319593",
   "metadata": {},
   "outputs": [
    {
     "name": "stdin",
     "output_type": "stream",
     "text": [
      "Enter the dividend:  20\n",
      "Enter the divisor:  10\n"
     ]
    },
    {
     "name": "stdout",
     "output_type": "stream",
     "text": [
      "The result of the division is: 2.0\n"
     ]
    }
   ],
   "source": [
    "#example\n",
    "try:\n",
    "    dividend = int(input(\"Enter the dividend: \"))\n",
    "    divisor = int(input(\"Enter the divisor: \"))\n",
    "    result = dividend / divisor\n",
    "except ValueError:\n",
    "    print(\"Invalid input. Please enter a valid number.\")\n",
    "except ZeroDivisionError:\n",
    "    print(\"Error: Cannot divide by zero.\")\n",
    "else:\n",
    "    print(\"The result of the division is:\", result)"
   ]
  },
  {
   "cell_type": "markdown",
   "id": "42f1d46c-24ec-45ea-b6b1-378174d4114d",
   "metadata": {},
   "source": [
    "Que2. Can a try-except block be nested inside another try-except block? Explain with an\n",
    "example."
   ]
  },
  {
   "cell_type": "markdown",
   "id": "ae3c2c7f-9bfa-4b8d-8d90-27d208ac0850",
   "metadata": {},
   "source": [
    "Ans Yes, a try-except block can be nested inside another try-except block. This is known as nested exception handling and is a common programming practice. It allows for handling different types of exceptions at different levels of code execution."
   ]
  },
  {
   "cell_type": "code",
   "execution_count": 3,
   "id": "5da83110-144e-4641-8bce-aa1a99217396",
   "metadata": {},
   "outputs": [
    {
     "name": "stdin",
     "output_type": "stream",
     "text": [
      "Enter the numerator:  12\n",
      "Enter the denominator:  2\n"
     ]
    },
    {
     "name": "stdout",
     "output_type": "stream",
     "text": [
      "Result: 6.0\n"
     ]
    }
   ],
   "source": [
    "#Example\n",
    "try:\n",
    "    # Outer try-except block\n",
    "    try:\n",
    "        # Inner try-except block\n",
    "        numerator = int(input(\"Enter the numerator: \"))\n",
    "        denominator = int(input(\"Enter the denominator: \"))\n",
    "        result = numerator / denominator\n",
    "        print(\"Result:\", result)\n",
    "    except ValueError:\n",
    "        print(\"Invalid input. Please enter integers.\")\n",
    "    except ZeroDivisionError:\n",
    "        print(\"Cannot divide by zero.\")\n",
    "    except Exception as e:\n",
    "        print(\"An error occurred:\", str(e))\n",
    "except:\n",
    "    print(\"An error occurred during execution.\")"
   ]
  },
  {
   "cell_type": "markdown",
   "id": "8ef46d42-dd45-48ee-bb53-c6c2e0eea8ac",
   "metadata": {},
   "source": [
    "Que3. How can you create a custom exception class in Python? Provide an example that\n",
    "demonstrates its usage."
   ]
  },
  {
   "cell_type": "code",
   "execution_count": 4,
   "id": "f0f34116-4021-4178-921c-85b1334dbf16",
   "metadata": {},
   "outputs": [
    {
     "name": "stdout",
     "output_type": "stream",
     "text": [
      "CustomException: Division by zero is not allowed.\n"
     ]
    }
   ],
   "source": [
    "class CustomException(Exception):\n",
    "    def __init__(self, message):\n",
    "        self.message = message\n",
    "\n",
    "    def __str__(self):\n",
    "        return f\"CustomException: {self.message}\"\n",
    "\n",
    "\n",
    "def divide(a, b):\n",
    "    if b == 0:\n",
    "        raise CustomException(\"Division by zero is not allowed.\")\n",
    "    return a / b\n",
    "\n",
    "\n",
    "# Usage example\n",
    "try:\n",
    "    result = divide(10, 0)\n",
    "except CustomException as e:\n",
    "    print(e)"
   ]
  },
  {
   "cell_type": "markdown",
   "id": "b39f1719-9b97-41a1-9f76-61646363c87b",
   "metadata": {},
   "source": [
    "Que4. What are some common exceptions that are built-in to Python?"
   ]
  },
  {
   "cell_type": "markdown",
   "id": "ef02d7e7-10a2-4d00-acda-0735341bbd48",
   "metadata": {},
   "source": [
    "Ans\n",
    "TypeError: Raised when an operation or function is performed on an object of an inappropriate type.\n",
    "ValueError: Raised when a function receives an argument of the correct type but an invalid value.\n",
    "IndexError: Raised when an index is out of range.\n",
    "KeyError: Raised when a dictionary is accessed with a key that doesn't exist.\n",
    "FileNotFoundError: Raised when a file or directory is requested but cannot be found.\n",
    "ImportError: Raised when an imported module or package cannot be found or loaded.\n",
    "ZeroDivisionError: Raised when division or modulo operation is performed with zero as the divisor.\n",
    "AttributeError: Raised when an attribute reference or assignment fails.\n",
    "TypeError: Raised when an operation or function is performed on an object of an inappropriate type.\n",
    "NameError: Raised when a local or global name is not found."
   ]
  },
  {
   "cell_type": "markdown",
   "id": "bfa56001-94a7-41ff-bf90-19e86a0ec25e",
   "metadata": {},
   "source": [
    "Que 5. What is logging in Python, and why is it important in software development?"
   ]
  },
  {
   "cell_type": "markdown",
   "id": "44ba0167-0d28-40cf-9668-76d7563e3d5b",
   "metadata": {},
   "source": [
    "Ans\n",
    "Debugging and Troubleshooting: When issues arise in a software application, logging can provide valuable insights into what went wrong. By logging relevant information such as error messages, stack traces, and variable values, developers can analyze the logs to identify and fix bugs or unexpected behavior.\n",
    "\n",
    "Monitoring and Analysis: Logging allows developers and system administrators to monitor the application's performance and behavior in real-time or retrospectively. By logging metrics like response times, resource usage, or user interactions, developers can identify bottlenecks, performance issues, or security breaches. Log analysis tools can help aggregate, filter, and visualize log data to gain meaningful insights.\n",
    "\n",
    "Auditing and Compliance: In many software applications, it is essential to maintain an audit trail of important events for compliance purposes. Logging enables the recording of critical actions or transactions, providing an accountable record that can be reviewed and analyzed later if needed.\n",
    "\n",
    "Understanding User Behavior: By logging user interactions, developers can gain a deeper understanding of how users are interacting with their software. Logging user actions, preferences, or errors can help improve user experience and identify patterns or areas of improvement.\n",
    "\n",
    "Deployment and Maintenance: Logging is crucial during the deployment and maintenance phases of software development. It enables developers to track the application's behavior in different environments, identify configuration issues, or monitor system health. Logs can also be used to trace the execution flow and identify performance bottlenecks."
   ]
  },
  {
   "cell_type": "markdown",
   "id": "e3b0e22f-58eb-4852-bb52-53d19087a748",
   "metadata": {},
   "source": [
    "Que 6.Explain the purpose of log levels in Python logging and provide examples of when\n",
    "each log level would be appropriate."
   ]
  },
  {
   "cell_type": "markdown",
   "id": "519b583d-a36e-4f27-8b79-f0981954fec6",
   "metadata": {},
   "source": [
    "DEBUG: This is the lowest level of logging, primarily used for detailed debugging information. It is typically used during development and should be disabled in production environments. Example use cases include:"
   ]
  },
  {
   "cell_type": "code",
   "execution_count": 7,
   "id": "2069550b-bcfd-477a-81c5-82b105061e21",
   "metadata": {},
   "outputs": [
    {
     "name": "stderr",
     "output_type": "stream",
     "text": [
      "DEBUG:__main__:Entering function foo()\n",
      "DEBUG:__main__:Variable x = %d\n"
     ]
    }
   ],
   "source": [
    "#Example\n",
    "import logging\n",
    "\n",
    "logging.basicConfig(level=logging.DEBUG)\n",
    "logger = logging.getLogger(__name__)\n",
    "\n",
    "logger.debug(\"Entering function foo()\")\n",
    "logger.debug(\"Variable x = %d\",x)"
   ]
  },
  {
   "cell_type": "markdown",
   "id": "494ce96c-d066-40bb-8497-fab354feae53",
   "metadata": {},
   "source": [
    "INFO: This level is used to provide general information about the application's progress or significant events. It is helpful for understanding the flow of the program. Example use cases include:"
   ]
  },
  {
   "cell_type": "code",
   "execution_count": 8,
   "id": "24779adb-3185-4c79-a6ec-d1efe9a3d9f7",
   "metadata": {},
   "outputs": [
    {
     "name": "stderr",
     "output_type": "stream",
     "text": [
      "INFO:__main__:Server started successfully.\n"
     ]
    },
    {
     "ename": "NameError",
     "evalue": "name 'filename' is not defined",
     "output_type": "error",
     "traceback": [
      "\u001b[0;31m---------------------------------------------------------------------------\u001b[0m",
      "\u001b[0;31mNameError\u001b[0m                                 Traceback (most recent call last)",
      "Cell \u001b[0;32mIn [8], line 7\u001b[0m\n\u001b[1;32m      4\u001b[0m logger \u001b[38;5;241m=\u001b[39m logging\u001b[38;5;241m.\u001b[39mgetLogger(\u001b[38;5;18m__name__\u001b[39m)\n\u001b[1;32m      6\u001b[0m logger\u001b[38;5;241m.\u001b[39minfo(\u001b[38;5;124m\"\u001b[39m\u001b[38;5;124mServer started successfully.\u001b[39m\u001b[38;5;124m\"\u001b[39m)\n\u001b[0;32m----> 7\u001b[0m logger\u001b[38;5;241m.\u001b[39minfo(\u001b[38;5;124m\"\u001b[39m\u001b[38;5;124mProcessing file: \u001b[39m\u001b[38;5;132;01m%s\u001b[39;00m\u001b[38;5;124m\"\u001b[39m, \u001b[43mfilename\u001b[49m)\n",
      "\u001b[0;31mNameError\u001b[0m: name 'filename' is not defined"
     ]
    }
   ],
   "source": [
    "import logging\n",
    "\n",
    "logging.basicConfig(level=logging.INFO)\n",
    "logger = logging.getLogger(__name__)\n",
    "\n",
    "logger.info(\"Server started successfully.\")\n",
    "logger.info(\"Processing file: %s\", filename)"
   ]
  },
  {
   "cell_type": "markdown",
   "id": "26f324ad-b6fd-42e0-be05-28cc2b21f9b5",
   "metadata": {},
   "source": [
    "WARNING: This level indicates potential issues or anomalies that may cause problems but do not prevent the application from functioning. It is useful for capturing non-critical errors or unusual events. Example use cases include:"
   ]
  },
  {
   "cell_type": "code",
   "execution_count": 9,
   "id": "0724c36c-9f7f-4ae4-831c-76417ba11da7",
   "metadata": {},
   "outputs": [
    {
     "ename": "SyntaxError",
     "evalue": "invalid syntax (3656895984.py, line 1)",
     "output_type": "error",
     "traceback": [
      "\u001b[0;36m  Cell \u001b[0;32mIn [9], line 1\u001b[0;36m\u001b[0m\n\u001b[0;31m    mport logging\u001b[0m\n\u001b[0m          ^\u001b[0m\n\u001b[0;31mSyntaxError\u001b[0m\u001b[0;31m:\u001b[0m invalid syntax\n"
     ]
    }
   ],
   "source": [
    "mport logging\n",
    "\n",
    "logging.basicConfig(level=logging.WARNING)\n",
    "logger = logging.getLogger(__name__)\n",
    "\n",
    "logger.warning(\"Deprecated function 'foo()' called.\")\n",
    "logger.warning(\"Disk space is running low.\")"
   ]
  },
  {
   "cell_type": "markdown",
   "id": "1427fe9c-1d47-4112-bb21-136e2358823f",
   "metadata": {},
   "source": [
    "ERROR: This level is used to report errors that prevented a specific operation from completing successfully. It signifies a more severe issue than a warning but doesn't necessarily lead to a program termination. Example use cases include:"
   ]
  },
  {
   "cell_type": "code",
   "execution_count": 10,
   "id": "ecc578d5-d9bf-48d2-84c9-a1c487f59fd8",
   "metadata": {},
   "outputs": [
    {
     "ename": "NameError",
     "evalue": "name 'filename' is not defined",
     "output_type": "error",
     "traceback": [
      "\u001b[0;31m---------------------------------------------------------------------------\u001b[0m",
      "\u001b[0;31mNameError\u001b[0m                                 Traceback (most recent call last)",
      "Cell \u001b[0;32mIn [10], line 6\u001b[0m\n\u001b[1;32m      3\u001b[0m logging\u001b[38;5;241m.\u001b[39mbasicConfig(level\u001b[38;5;241m=\u001b[39mlogging\u001b[38;5;241m.\u001b[39mERROR)\n\u001b[1;32m      4\u001b[0m logger \u001b[38;5;241m=\u001b[39m logging\u001b[38;5;241m.\u001b[39mgetLogger(\u001b[38;5;18m__name__\u001b[39m)\n\u001b[0;32m----> 6\u001b[0m logger\u001b[38;5;241m.\u001b[39merror(\u001b[38;5;124m\"\u001b[39m\u001b[38;5;124mFailed to open file: \u001b[39m\u001b[38;5;132;01m%s\u001b[39;00m\u001b[38;5;124m\"\u001b[39m, \u001b[43mfilename\u001b[49m)\n\u001b[1;32m      7\u001b[0m logger\u001b[38;5;241m.\u001b[39merror(\u001b[38;5;124m\"\u001b[39m\u001b[38;5;124mDatabase connection failed.\u001b[39m\u001b[38;5;124m\"\u001b[39m)\n",
      "\u001b[0;31mNameError\u001b[0m: name 'filename' is not defined"
     ]
    }
   ],
   "source": [
    "import logging\n",
    "\n",
    "logging.basicConfig(level=logging.ERROR)\n",
    "logger = logging.getLogger(__name__)\n",
    "\n",
    "logger.error(\"Failed to open file: %s\", filename)\n",
    "logger.error(\"Database connection failed.\")"
   ]
  },
  {
   "cell_type": "markdown",
   "id": "d588f4df-4711-4340-baec-207096e88082",
   "metadata": {},
   "source": [
    "CRITICAL: This is the highest level of severity, indicating a critical error that might lead to the termination of the application. It is typically used for reporting and handling fatal errors. Example use cases include:"
   ]
  },
  {
   "cell_type": "code",
   "execution_count": 11,
   "id": "7b33fd34-4aaa-4928-8965-f25bf21fb98c",
   "metadata": {},
   "outputs": [
    {
     "name": "stderr",
     "output_type": "stream",
     "text": [
      "CRITICAL:__main__:Unrecoverable error occurred. Shutting down.\n",
      "CRITICAL:__main__:Security breach detected!\n"
     ]
    }
   ],
   "source": [
    "import logging\n",
    "\n",
    "logging.basicConfig(level=logging.CRITICAL)\n",
    "logger = logging.getLogger(__name__)\n",
    "\n",
    "logger.critical(\"Unrecoverable error occurred. Shutting down.\")\n",
    "logger.critical(\"Security breach detected!\")"
   ]
  },
  {
   "cell_type": "markdown",
   "id": "cfb0eab5-fbd9-42f8-839b-297a8168b191",
   "metadata": {},
   "source": [
    "Que7. What are log formatters in Python logging, and how can you customise the log\n",
    "message format using formatters?"
   ]
  },
  {
   "cell_type": "markdown",
   "id": "eda7a00c-d03a-4f63-abcb-f958d4b51171",
   "metadata": {},
   "source": [
    "Ans\n",
    "The logging.Formatter class is used to create log formatters in Python. It allows you to customize the log message format by specifying a formatting string that defines the desired layout. The formatting string can contain placeholders that are replaced with actual values from the log record when a log message is emitted."
   ]
  },
  {
   "cell_type": "code",
   "execution_count": 12,
   "id": "9ffe1a6e-8aca-4fc8-9f02-0b2a4b9f8703",
   "metadata": {},
   "outputs": [
    {
     "name": "stderr",
     "output_type": "stream",
     "text": [
      "2023-06-21 10:05:59,538 - DEBUG - This is a debug message\n",
      "DEBUG:my_logger:This is a debug message\n",
      "2023-06-21 10:05:59,540 - INFO - This is an info message\n",
      "INFO:my_logger:This is an info message\n",
      "2023-06-21 10:05:59,541 - WARNING - This is a warning message\n",
      "WARNING:my_logger:This is a warning message\n"
     ]
    }
   ],
   "source": [
    "import logging\n",
    "\n",
    "# Create a log formatter with a custom format\n",
    "formatter = logging.Formatter('%(asctime)s - %(levelname)s - %(message)s')\n",
    "\n",
    "# Create a logger and set the formatter\n",
    "logger = logging.getLogger('my_logger')\n",
    "handler = logging.StreamHandler()\n",
    "handler.setFormatter(formatter)\n",
    "logger.addHandler(handler)\n",
    "\n",
    "# Emit log messages\n",
    "logger.debug('This is a debug message')\n",
    "logger.info('This is an info message')\n",
    "logger.warning('This is a warning message')"
   ]
  },
  {
   "cell_type": "markdown",
   "id": "4757d933-55c2-4868-b3fe-b84d08e55b90",
   "metadata": {},
   "source": [
    "Que8. How can you set up logging to capture log messages from multiple modules or\n",
    "classes in a Python application?"
   ]
  },
  {
   "cell_type": "markdown",
   "id": "b79baf03-b8f7-4a24-be8f-b757f4e40794",
   "metadata": {},
   "source": [
    "Import the logging module at the beginning of your script or module:\n",
    "\n"
   ]
  },
  {
   "cell_type": "markdown",
   "id": "1ee3d385-4eba-44ee-9f35-3857fd4a4298",
   "metadata": {},
   "source": [
    "Configure the logging system by specifying the desired logging format, log level, and log file (if needed). This configuration should be done before any logging calls are made. You can do this in a separate module or directly in your main script. Here's an example of configuring the logging system:"
   ]
  },
  {
   "cell_type": "code",
   "execution_count": 13,
   "id": "ea62c509-0752-4ce2-98d3-de8d46a0c5a0",
   "metadata": {},
   "outputs": [],
   "source": [
    "# Set the logging format\n",
    "logging.basicConfig(format='%(asctime)s - %(name)s - %(levelname)s - %(message)s')\n",
    "\n",
    "# Set the desired log level (e.g., DEBUG, INFO, WARNING, ERROR, CRITICAL)\n",
    "logging.getLogger().setLevel(logging.DEBUG)\n",
    "\n",
    "# Optionally, specify a log file\n",
    "logging.basicConfig(filename='app.log', level=logging.DEBUG)"
   ]
  },
  {
   "cell_type": "markdown",
   "id": "d4a92a72-3fa9-403a-9158-fafda154b1e5",
   "metadata": {},
   "source": [
    "In each module or class where you want to log messages, create a logger instance using the module or class name. It's recommended to use the __name__ variable as the logger name, as it automatically provides the module or class name:\n",
    "python\n",
    "C"
   ]
  },
  {
   "cell_type": "code",
   "execution_count": 14,
   "id": "2bad12f3-f6d7-427e-b049-4f0ff2b4bab5",
   "metadata": {},
   "outputs": [],
   "source": [
    "logger = logging.getLogger(__name__)"
   ]
  },
  {
   "cell_type": "code",
   "execution_count": 16,
   "id": "57f5434b-1e24-41da-a8c9-367a676d56e3",
   "metadata": {},
   "outputs": [
    {
     "name": "stderr",
     "output_type": "stream",
     "text": [
      "DEBUG:__main__:This is a debug message\n",
      "INFO:__main__:This is an info message\n",
      "WARNING:__main__:This is a warning message\n",
      "ERROR:__main__:This is an error message\n"
     ]
    }
   ],
   "source": [
    "logger.debug('This is a debug message')\n",
    "logger.info('This is an info message')\n",
    "logger.warning('This is a warning message')\n",
    "logger.error('This is an error message')"
   ]
  },
  {
   "cell_type": "markdown",
   "id": "e72798e8-3524-4382-a1bf-82f632f2fa0c",
   "metadata": {},
   "source": [
    "By default, log messages of level WARNING and above are captured. If you want to capture log messages of all levels, you can set the log level of the logger to the lowest level (DEBUG) using the setLevel() method:"
   ]
  },
  {
   "cell_type": "markdown",
   "id": "321de69c-1f6f-4ca2-b9d4-0b6b491c400f",
   "metadata": {},
   "source": [
    "Run your Python application, and the log messages from multiple modules or classes will be captured according to the configured settings."
   ]
  },
  {
   "cell_type": "markdown",
   "id": "f649af5b-e1fa-4d0f-a474-52e7189f319f",
   "metadata": {},
   "source": [
    "Que 9.What is the difference between the logging and print statements in Python? When\n",
    "should you use logging over print statements in a real-world application?Que "
   ]
  },
  {
   "cell_type": "markdown",
   "id": "08d2fd45-499a-4004-8da3-1dd451bdaade",
   "metadata": {},
   "source": [
    "Ans\n",
    "Print Statements: The print statement is a built-in function in Python that allows you to display information on the console or standard output. It is primarily used for debugging and quick information output during development. Some characteristics of \n",
    "\n",
    "Logging: The logging module in Python provides a more robust and configurable way to generate log messages in applications. It offers a wide range of features for logging, including log levels, formatting, handlers, filters, and more. Logging is typically used for long-term information recording, analysis, and troubleshooting in production applications. Some characteristics of the logging module include:\n",
    "\n",
    "Granular Control: Logging provides log levels, allowing you to control the verbosity of the output. You can choose which log messages to display based on their importance, and easily change the log level without modifying the code. This flexibility is valuable in production environments where you may want to reduce the amount of output or increase it for troubleshooting purposes.\n",
    "\n",
    "Persistence and Analysis: Logging allows you to store log messages persistently in files or databases. This enables you to analyze the logs over time, track application behavior, and identify issues or patterns. In contrast, print statements only display output on the console and are not easily traceable or stored for future analysis.\n",
    "\n",
    "Production Readiness: Logging is designed for production environments and scales well for large applications. It provides features like log rotation, log file management, and log aggregation across multiple components or servers. These capabilities are essential for handling high-volume and distributed applications, which is not possible with print statements alone.\n",
    "\n",
    "Flexibility and Extensibility: The logging module offers extensive customization options. You can define your log formats, add additional information (e.g., timestamps, log levels, module names), and configure multiple log handlers. This flexibility allows you to tailor the logging output according to your specific requirements."
   ]
  },
  {
   "cell_type": "markdown",
   "id": "102a093b-5b53-40c1-9d78-651ddcafd6b2",
   "metadata": {},
   "source": [
    "Que10. Write a Python program that logs a message to a file named \"app.log\" with the\n",
    "following requirements:\n",
    "● The log message should be \"Hello, World!\"\n",
    "● The log level should be set to \"INFO.\"\n",
    "● The log file should append new log entries without overwriting previous ones."
   ]
  },
  {
   "cell_type": "code",
   "execution_count": 17,
   "id": "a7063c71-a02a-4668-8f8f-fc83080d22e7",
   "metadata": {},
   "outputs": [
    {
     "name": "stderr",
     "output_type": "stream",
     "text": [
      "INFO:root:Hello, World!\n"
     ]
    }
   ],
   "source": [
    "import logging\n",
    "\n",
    "# Configure the logger\n",
    "logging.basicConfig(\n",
    "    level=logging.INFO,\n",
    "    filename=\"app.log\",\n",
    "    filemode=\"a\",\n",
    "    format=\"%(asctime)s - %(levelname)s - %(message)s\"\n",
    ")\n",
    "\n",
    "# Log the message\n",
    "logging.info(\"Hello, World!\")"
   ]
  },
  {
   "cell_type": "markdown",
   "id": "4d2e41b3-b61a-41e2-9449-5185f476e34c",
   "metadata": {},
   "source": [
    "Que 11. Create a Python program that logs an error message to the console and a file named\n",
    "\"errors.log\" if an exception occurs during the program's execution. The error\n",
    "message should include the exception type and a timestamp."
   ]
  },
  {
   "cell_type": "code",
   "execution_count": null,
   "id": "85e4970a-ddd9-4b0c-be3c-fe8446aa5915",
   "metadata": {},
   "outputs": [],
   "source": []
  }
 ],
 "metadata": {
  "kernelspec": {
   "display_name": "Python 3 (ipykernel)",
   "language": "python",
   "name": "python3"
  },
  "language_info": {
   "codemirror_mode": {
    "name": "ipython",
    "version": 3
   },
   "file_extension": ".py",
   "mimetype": "text/x-python",
   "name": "python",
   "nbconvert_exporter": "python",
   "pygments_lexer": "ipython3",
   "version": "3.10.6"
  }
 },
 "nbformat": 4,
 "nbformat_minor": 5
}
